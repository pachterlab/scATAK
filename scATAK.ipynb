{
  "nbformat": 4,
  "nbformat_minor": 0,
  "metadata": {
    "colab": {
      "provenance": [],
      "authorship_tag": "ABX9TyNphII26jppfMyU2Evdv/+C",
      "include_colab_link": true
    },
    "kernelspec": {
      "name": "python3",
      "display_name": "Python 3"
    },
    "language_info": {
      "name": "python"
    }
  },
  "cells": [
    {
      "cell_type": "markdown",
      "metadata": {
        "id": "view-in-github",
        "colab_type": "text"
      },
      "source": [
        "<a href=\"https://colab.research.google.com/github/pachterlab/scATAK/blob/main/scATAK.ipynb\" target=\"_parent\"><img src=\"https://colab.research.google.com/assets/colab-badge.svg\" alt=\"Open In Colab\"/></a>"
      ]
    },
    {
      "cell_type": "code",
      "source": [
        "!curl -Ls https://github.com/pachterlab/scATAK/blob/main/data/min-R1.fastq.gz?raw=true > min-R1.fastq.gz\n",
        "!curl -Ls https://github.com/pachterlab/scATAK/blob/main/data/min-R2.fastq.gz?raw=true > min-R2.fastq.gz\n",
        "!curl -Ls https://github.com/pachterlab/scATAK/blob/main/data/min-R3.fastq.gz?raw=true > min-R3.fastq.gz"
      ],
      "metadata": {
        "id": "rBiSoRraoG-G"
      },
      "execution_count": 12,
      "outputs": []
    },
    {
      "cell_type": "code",
      "execution_count": 4,
      "metadata": {
        "colab": {
          "base_uri": "https://localhost:8080/"
        },
        "id": "I-jilmzPWGlJ",
        "outputId": "ac89de7e-ed20-432a-d7c6-dba2874c301a"
      },
      "outputs": [
        {
          "output_type": "stream",
          "name": "stdout",
          "text": [
            "\r          minimap2-   0%[                    ]       0  --.-KB/s               \rminimap2-2.24_x64-l 100%[===================>]   2.04M  --.-KB/s    in 0.06s   \n",
            "minimap2-2.24_x64-linux/\n",
            "minimap2-2.24_x64-linux/LICENSE.txt\n",
            "minimap2-2.24_x64-linux/k8\n",
            "minimap2-2.24_x64-linux/README-js.md\n",
            "minimap2-2.24_x64-linux/paftools.js\n",
            "minimap2-2.24_x64-linux/minimap2\n",
            "minimap2-2.24_x64-linux/README.md\n",
            "minimap2-2.24_x64-linux/cookbook.md\n",
            "minimap2-2.24_x64-linux/minimap2.1\n",
            "minimap2-2.24_x64-linux/NEWS.md\n"
          ]
        }
      ],
      "source": [
        "# install minimap for mapping paired end reads\n",
        "!wget --quiet --show-progress \"https://github.com/lh3/minimap2/releases/download/v2.24/minimap2-2.24_x64-linux.tar.bz2\"\n",
        "!tar -jxvf minimap2-2.24_x64-linux.tar.bz2\n",
        "!cp minimap2-2.24_x64-linux/minimap2 /usr/local/bin\n",
        "\n",
        "# Insstall sambamba for sam file manipulation\n",
        "!wget --quiet --show-progress https://github.com/biod/sambamba/releases/download/v0.8.2/sambamba-0.8.2-linux-amd64-static.gz\n",
        "!gunzip sambamba-0.8.2-linux-amd64-static.gz\n",
        "!chmod +x /content/sambamba-0.8.2-linux-amd64-static\n",
        "!mv sambamba-0.8.2-linux-amd64-static /usr/local/bin/sambamba\n",
        "\n",
        "# Genrich for peak callling\n",
        "!git clone https://github.com/jsh58/Genrich.git\n",
        "!cd Genrich && make && cp Genrich /usr/local/bin\n",
        "\n",
        "# bedtools for slicing the peaks\n",
        "!wget --quiet --show-progress https://github.com/arq5x/bedtools2/releases/download/v2.30.0/bedtools.static.binary\n",
        "!chmod +x /content/bedtools.static.binary\n",
        "!mv /content/bedtools.static.binary /usr/local/bin/bedtools"
      ]
    },
    {
      "cell_type": "code",
      "source": [
        "!minimap2"
      ],
      "metadata": {
        "colab": {
          "base_uri": "https://localhost:8080/"
        },
        "id": "ikn1dEZ1XGn2",
        "outputId": "f7b8b62b-b543-43b2-fec9-49acce6f20be"
      },
      "execution_count": 8,
      "outputs": [
        {
          "output_type": "stream",
          "name": "stdout",
          "text": [
            "Usage: minimap2 [options] <target.fa>|<target.idx> [query.fa] [...]\n",
            "Options:\n",
            "  Indexing:\n",
            "    -H           use homopolymer-compressed k-mer (preferrable for PacBio)\n",
            "    -k INT       k-mer size (no larger than 28) [15]\n",
            "    -w INT       minimizer window size [10]\n",
            "    -I NUM       split index for every ~NUM input bases [4G]\n",
            "    -d FILE      dump index to FILE []\n",
            "  Mapping:\n",
            "    -f FLOAT     filter out top FLOAT fraction of repetitive minimizers [0.0002]\n",
            "    -g NUM       stop chain enlongation if there are no minimizers in INT-bp [5000]\n",
            "    -G NUM       max intron length (effective with -xsplice; changing -r) [200k]\n",
            "    -F NUM       max fragment length (effective with -xsr or in the fragment mode) [800]\n",
            "    -r NUM[,NUM] chaining/alignment bandwidth and long-join bandwidth [500,20000]\n",
            "    -n INT       minimal number of minimizers on a chain [3]\n",
            "    -m INT       minimal chaining score (matching bases minus log gap penalty) [40]\n",
            "    -X           skip self and dual mappings (for the all-vs-all mode)\n",
            "    -p FLOAT     min secondary-to-primary score ratio [0.8]\n",
            "    -N INT       retain at most INT secondary alignments [5]\n",
            "  Alignment:\n",
            "    -A INT       matching score [2]\n",
            "    -B INT       mismatch penalty (larger value for lower divergence) [4]\n",
            "    -O INT[,INT] gap open penalty [4,24]\n",
            "    -E INT[,INT] gap extension penalty; a k-long gap costs min{O1+k*E1,O2+k*E2} [2,1]\n",
            "    -z INT[,INT] Z-drop score and inversion Z-drop score [400,200]\n",
            "    -s INT       minimal peak DP alignment score [80]\n",
            "    -u CHAR      how to find GT-AG. f:transcript strand, b:both strands, n:don't match GT-AG [n]\n",
            "  Input/Output:\n",
            "    -a           output in the SAM format (PAF by default)\n",
            "    -o FILE      output alignments to FILE [stdout]\n",
            "    -L           write CIGAR with >65535 ops at the CG tag\n",
            "    -R STR       SAM read group line in a format like '@RG\\tID:foo\\tSM:bar' []\n",
            "    -c           output CIGAR in PAF\n",
            "    --cs[=STR]   output the cs tag; STR is 'short' (if absent) or 'long' [none]\n",
            "    --MD         output the MD tag\n",
            "    --eqx        write =/X CIGAR operators\n",
            "    -Y           use soft clipping for supplementary alignments\n",
            "    -t INT       number of threads [3]\n",
            "    -K NUM       minibatch size for mapping [500M]\n",
            "    --version    show version number\n",
            "  Preset:\n",
            "    -x STR       preset (always applied before other options; see minimap2.1 for details) []\n",
            "                 - map-pb/map-ont - PacBio CLR/Nanopore vs reference mapping\n",
            "                 - map-hifi - PacBio HiFi reads vs reference mapping\n",
            "                 - ava-pb/ava-ont - PacBio/Nanopore read overlap\n",
            "                 - asm5/asm10/asm20 - asm-to-ref mapping, for ~0.1/1/5% sequence divergence\n",
            "                 - splice/splice:hq - long-read/Pacbio-CCS spliced alignment\n",
            "                 - sr - genomic short-read mapping\n",
            "\n",
            "See `man ./minimap2.1' for detailed description of these and other advanced command-line options.\n"
          ]
        }
      ]
    },
    {
      "cell_type": "code",
      "source": [
        "!sambamba"
      ],
      "metadata": {
        "colab": {
          "base_uri": "https://localhost:8080/"
        },
        "id": "stCgVpazqcvJ",
        "outputId": "e5218ef0-8caa-4acf-b459-5a1d3c506884"
      },
      "execution_count": 22,
      "outputs": [
        {
          "output_type": "stream",
          "name": "stdout",
          "text": [
            "\n",
            "sambamba 0.8.2\n",
            " by Artem Tarasov and Pjotr Prins (C) 2012-2021\n",
            "    LDC 1.27.1 / DMD v2.097.2 / LLVM11.0.0 / bootstrap LDC - the LLVM D compiler (1.27.1)\n",
            "\n",
            "\n",
            "Usage: sambamba [command] [args...]\n",
            "\n",
            "  Available commands:\n",
            "\n",
            "    view        view contents and convert from one format\n",
            "                to another (SAM/BAM/JSON/UNPACK)\n",
            "    index       build index (BAI)\n",
            "    merge       merge files (BAM)\n",
            "    sort        sort file (BAM)\n",
            "    slice       slice file (BAM using BED)\n",
            "    markdup     mark or remove duplicates (BAM)\n",
            "    subsample   subsample (BAM)\n",
            "    flagstat    output statistics (BAM)\n",
            "    depth       output statistics (BAM)\n",
            "    validate    simple validator (BAM)\n",
            "\n",
            "  No longer recommended:\n",
            "\n",
            "    mpileup     parallel execution of samtools (BAM)\n",
            "\n",
            "To get help on a particular command, call it without args.\n",
            "\n",
            "Global options\n",
            "\n",
            "    -q          quiet mode (do not show banner)\n",
            "\n",
            "For bug reports and feature requests see\n",
            "\n",
            "       https://github.com/biod/\n",
            "\n"
          ]
        }
      ]
    },
    {
      "cell_type": "code",
      "source": [
        "!Genrich"
      ],
      "metadata": {
        "colab": {
          "base_uri": "https://localhost:8080/"
        },
        "id": "mGzvudEKrZ6x",
        "outputId": "63d1f183-aa19-4a78-d4ad-e07019181a57"
      },
      "execution_count": 32,
      "outputs": [
        {
          "output_type": "stream",
          "name": "stdout",
          "text": [
            "Error! Need input/output files\n",
            "Usage: ./Genrich  -t <file>  -o <file>  [optional arguments]\n",
            "Required arguments:\n",
            "  -t  <file>       Input SAM/BAM file(s) for experimental sample(s)\n",
            "  -o  <file>       Output peak file (in ENCODE narrowPeak format)\n",
            "Optional I/O arguments:\n",
            "  -c  <file>       Input SAM/BAM file(s) for control sample(s)\n",
            "  -f  <file>       Output bedgraph-ish file for p/q values\n",
            "  -k  <file>       Output bedgraph-ish file for pileups and p-values\n",
            "  -b  <file>       Output BED file for reads/fragments/intervals\n",
            "  -R  <file>       Output file for PCR duplicates (only with -r)\n",
            "Filtering options:\n",
            "  -r               Remove PCR duplicates\n",
            "  -e  <arg>        Comma-separated list of chromosomes to exclude\n",
            "  -E  <file>       Input BED file(s) of genomic regions to exclude\n",
            "  -m  <int>        Minimum MAPQ to keep an alignment (def. 0)\n",
            "  -s  <float>      Keep sec alns with AS >= bestAS - <float> (def. 0)\n",
            "  -y               Keep unpaired alignments (def. false)\n",
            "  -w  <int>        Keep unpaired alns, lengths changed to <int>\n",
            "  -x               Keep unpaired alns, lengths changed to paired avg\n",
            "Options for ATAC-seq:\n",
            "  -j               Use ATAC-seq mode (def. false)\n",
            "  -d  <int>        Expand cut sites to <int> bp (def. 100)\n",
            "  -D               Skip Tn5 adjustments of cut sites (def. false)\n",
            "Options for peak-calling:\n",
            "  -p  <float>      Maximum p-value (def. 0.01)\n",
            "  -q  <float>      Maximum q-value (FDR-adjusted p-value; def. 1)\n",
            "  -a  <float>      Minimum AUC for a peak (def. 200.0)\n",
            "  -l  <int>        Minimum length of a peak (def. 0)\n",
            "  -g  <int>        Maximum distance between signif. sites (def. 100)\n",
            "Other options:\n",
            "  -X               Skip peak-calling\n",
            "  -P               Call peaks directly from a log file (-f)\n",
            "  -z               Option to gzip-compress output(s)\n",
            "  -v               Option to print status updates/counts to stderr\n"
          ]
        }
      ]
    },
    {
      "cell_type": "code",
      "source": [
        "!bedtools"
      ],
      "metadata": {
        "colab": {
          "base_uri": "https://localhost:8080/"
        },
        "id": "_I3nfoRMsVT2",
        "outputId": "ad373a0c-f501-413e-a269-d2e1215fbe90"
      },
      "execution_count": 43,
      "outputs": [
        {
          "output_type": "stream",
          "name": "stdout",
          "text": [
            "bedtools is a powerful toolset for genome arithmetic.\n",
            "\n",
            "Version:   v2.30.0\n",
            "About:     developed in the quinlanlab.org and by many contributors worldwide.\n",
            "Docs:      http://bedtools.readthedocs.io/\n",
            "Code:      https://github.com/arq5x/bedtools2\n",
            "Mail:      https://groups.google.com/forum/#!forum/bedtools-discuss\n",
            "\n",
            "Usage:     bedtools <subcommand> [options]\n",
            "\n",
            "The bedtools sub-commands include:\n",
            "\n",
            "[ Genome arithmetic ]\n",
            "    intersect     Find overlapping intervals in various ways.\n",
            "    window        Find overlapping intervals within a window around an interval.\n",
            "    closest       Find the closest, potentially non-overlapping interval.\n",
            "    coverage      Compute the coverage over defined intervals.\n",
            "    map           Apply a function to a column for each overlapping interval.\n",
            "    genomecov     Compute the coverage over an entire genome.\n",
            "    merge         Combine overlapping/nearby intervals into a single interval.\n",
            "    cluster       Cluster (but don't merge) overlapping/nearby intervals.\n",
            "    complement    Extract intervals _not_ represented by an interval file.\n",
            "    shift         Adjust the position of intervals.\n",
            "    subtract      Remove intervals based on overlaps b/w two files.\n",
            "    slop          Adjust the size of intervals.\n",
            "    flank         Create new intervals from the flanks of existing intervals.\n",
            "    sort          Order the intervals in a file.\n",
            "    random        Generate random intervals in a genome.\n",
            "    shuffle       Randomly redistribute intervals in a genome.\n",
            "    sample        Sample random records from file using reservoir sampling.\n",
            "    spacing       Report the gap lengths between intervals in a file.\n",
            "    annotate      Annotate coverage of features from multiple files.\n",
            "\n",
            "[ Multi-way file comparisons ]\n",
            "    multiinter    Identifies common intervals among multiple interval files.\n",
            "    unionbedg     Combines coverage intervals from multiple BEDGRAPH files.\n",
            "\n",
            "[ Paired-end manipulation ]\n",
            "    pairtobed     Find pairs that overlap intervals in various ways.\n",
            "    pairtopair    Find pairs that overlap other pairs in various ways.\n",
            "\n",
            "[ Format conversion ]\n",
            "    bamtobed      Convert BAM alignments to BED (& other) formats.\n",
            "    bedtobam      Convert intervals to BAM records.\n",
            "    bamtofastq    Convert BAM records to FASTQ records.\n",
            "    bedpetobam    Convert BEDPE intervals to BAM records.\n",
            "    bed12tobed6   Breaks BED12 intervals into discrete BED6 intervals.\n",
            "\n",
            "[ Fasta manipulation ]\n",
            "    getfasta      Use intervals to extract sequences from a FASTA file.\n",
            "    maskfasta     Use intervals to mask sequences from a FASTA file.\n",
            "    nuc           Profile the nucleotide content of intervals in a FASTA file.\n",
            "\n",
            "[ BAM focused tools ]\n",
            "    multicov      Counts coverage from multiple BAMs at specific intervals.\n",
            "    tag           Tag BAM alignments based on overlaps with interval files.\n",
            "\n",
            "[ Statistical relationships ]\n",
            "    jaccard       Calculate the Jaccard statistic b/w two sets of intervals.\n",
            "    reldist       Calculate the distribution of relative distances b/w two files.\n",
            "    fisher        Calculate Fisher statistic b/w two feature files.\n",
            "\n",
            "[ Miscellaneous tools ]\n",
            "    overlap       Computes the amount of overlap from two intervals.\n",
            "    igv           Create an IGV snapshot batch script.\n",
            "    links         Create a HTML page of links to UCSC locations.\n",
            "    makewindows   Make interval \"windows\" across a genome.\n",
            "    groupby       Group by common cols. & summarize oth. cols. (~ SQL \"groupBy\")\n",
            "    expand        Replicate lines based on lists of values in columns.\n",
            "    split         Split a file into multiple files with equal records or base pairs.\n",
            "    summary       Statistical summary of intervals in a file.\n",
            "\n",
            "[ General Parameters ]\n",
            "     --cram-ref    Reference used by a CRAM input\n",
            "\n",
            "[ General help ]\n",
            "    --help        Print this help menu.\n",
            "    --version     What version of bedtools are you using?.\n",
            "    --contact     Feature requests, bugs, mailing lists, etc.\n",
            "\n"
          ]
        }
      ]
    },
    {
      "cell_type": "code",
      "source": [
        "!wget --quiet --show-progress \"http://ftp.ensembl.org/pub/release-104/fasta/homo_sapiens/dna/Homo_sapiens.GRCh38.dna.primary_assembly.fa.gz\""
      ],
      "metadata": {
        "colab": {
          "base_uri": "https://localhost:8080/"
        },
        "id": "29hU4nwMWLjx",
        "outputId": "623995d3-830c-441f-a882-639a8c661332"
      },
      "execution_count": 9,
      "outputs": [
        {
          "output_type": "stream",
          "name": "stdout",
          "text": [
            "--2022-09-30 17:06:13--  http://ftp.ensembl.org/pub/release-104/fasta/homo_sapiens/dna/Homo_sapiens.GRCh38.dna.primary_assembly.fa.gz\n",
            "Resolving ftp.ensembl.org (ftp.ensembl.org)... 193.62.193.139\n",
            "Connecting to ftp.ensembl.org (ftp.ensembl.org)|193.62.193.139|:80... connected.\n",
            "HTTP request sent, awaiting response... 200 OK\n",
            "Length: 881211416 (840M) [application/x-gzip]\n",
            "Saving to: ‘Homo_sapiens.GRCh38.dna.primary_assembly.fa.gz’\n",
            "\n",
            "Homo_sapiens.GRCh38 100%[===================>] 840.39M  23.9MB/s    in 4m 24s  \n",
            "\n",
            "2022-09-30 17:10:37 (3.18 MB/s) - ‘Homo_sapiens.GRCh38.dna.primary_assembly.fa.gz’ saved [881211416/881211416]\n",
            "\n"
          ]
        }
      ]
    },
    {
      "cell_type": "code",
      "source": [
        "!time minimap2 \\\n",
        "-d ref.mmi \\\n",
        "Homo_sapiens.GRCh38.dna.primary_assembly.fa.gz"
      ],
      "metadata": {
        "colab": {
          "base_uri": "https://localhost:8080/"
        },
        "id": "K-bh3JzGWR6f",
        "outputId": "06983eb3-ce4f-488f-9798-cdf1522d31ab"
      },
      "execution_count": 10,
      "outputs": [
        {
          "output_type": "stream",
          "name": "stdout",
          "text": [
            "tcmalloc: large alloc 1073741824 bytes == 0x6a698000 @  0x7effc6ef72a4 0x414d2d 0x406c48 0x4129cf 0x7effc66f06db 0x7effc641961f\n",
            "tcmalloc: large alloc 2147483648 bytes == 0x27d99e000 @  0x7effc6ef72a4 0x406fee 0x4129cf 0x7effc66f06db 0x7effc641961f\n",
            "[M::mm_idx_gen::127.246*1.68] collected minimizers\n",
            "[M::mm_idx_gen::161.853*1.73] sorted minimizers\n",
            "[M::main::190.503*1.54] loaded/built the index for 194 target sequence(s)\n",
            "[M::mm_idx_stat] kmer size: 15; skip: 10; is_hpc: 0; #seq: 194\n",
            "[M::mm_idx_stat::192.955*1.53] distinct minimizers: 100159079 (38.79% are singletons); average occurrences: 5.540; average spacing: 5.586; total length: 3099750718\n",
            "[M::main] Version: 2.24-r1122\n",
            "[M::main] CMD: minimap2 -d ref.mmi Homo_sapiens.GRCh38.dna.primary_assembly.fa.gz\n",
            "[M::main] Real time: 194.609 sec; CPU: 296.872 sec; Peak RSS: 11.262 GB\n",
            "\n",
            "real\t3m15.225s\n",
            "user\t4m14.967s\n",
            "sys\t0m42.510s\n"
          ]
        }
      ]
    },
    {
      "cell_type": "code",
      "source": [
        "!time minimap2 -ax sr -t2 ref.mmi \\\n",
        "   <(paste \\\n",
        "     <(zcat min-R1.fastq.gz) \\\n",
        "     <(zcat min-R2.fastq.gz) \\\n",
        "     | awk -v blen=\"16\" '{if(NR%4==1) header=$1; if(NR%4==2) print header\"_\"substr($2, 0, blen)\"_\\n\"$1; if(NR%4==3 || NR%4==0) print $1;}') \\\n",
        "   <(paste \\\n",
        "     <(zcat min-R3.fastq.gz) \\\n",
        "     <(zcat min-R2.fastq.gz) \\\n",
        "     | awk -v blen=\"16\" '{if(NR%4==1) header=$1; if(NR%4==2) print header\"_\"substr($2, 0, blen)\"_\\n\"$1; if(NR%4==3 || NR%4==0) print $1;}') \\\n",
        "   > peaks.sam"
      ],
      "metadata": {
        "colab": {
          "base_uri": "https://localhost:8080/"
        },
        "id": "1CtYe1_dXTmR",
        "outputId": "3c8bca4f-8327-443b-f4d6-2305951864cb"
      },
      "execution_count": 13,
      "outputs": [
        {
          "output_type": "stream",
          "name": "stdout",
          "text": [
            "tcmalloc: large alloc 1549877248 bytes == 0x17ea7a000 @  0x7f145e3421e7 0x40a494 0x40a9b8 0x402995 0x7f145d765c87 0x4018b9\n",
            "[WARNING]\u001b[1;31m Indexing parameters (-k, -w or -H) overridden by parameters used in the prebuilt index.\u001b[0m\n",
            "[M::main::56.680*0.37] loaded/built the index for 194 target sequence(s)\n",
            "[M::mm_mapopt_update::56.680*0.37] mid_occ = 1000\n",
            "[M::mm_idx_stat] kmer size: 15; skip: 10; is_hpc: 0; #seq: 194\n",
            "[M::mm_idx_stat::57.890*0.38] distinct minimizers: 100159079 (38.79% are singletons); average occurrences: 5.540; average spacing: 5.586; total length: 3099750718\n",
            "[M::worker_pipeline::103.114*0.99] mapped 500000 sequences\n",
            "[M::main] Version: 2.24-r1122\n",
            "[M::main] CMD: minimap2 -ax sr -t2 ref.mmi /dev/fd/63 /dev/fd/62\n",
            "[M::main] Real time: 104.181 sec; CPU: 103.127 sec; Peak RSS: 7.617 GB\n",
            "\n",
            "real\t1m44.725s\n",
            "user\t1m28.124s\n",
            "sys\t0m18.010s\n"
          ]
        }
      ]
    },
    {
      "cell_type": "code",
      "source": [
        "!sambamba view -t 2 -f bam -S -o peaks.bam peaks.sam\n",
        "!rm peaks.sam"
      ],
      "metadata": {
        "colab": {
          "base_uri": "https://localhost:8080/"
        },
        "id": "rNxoGKr3qBee",
        "outputId": "e8216124-6c5c-4c01-d9f5-e9bf4b02ef81"
      },
      "execution_count": 23,
      "outputs": [
        {
          "output_type": "stream",
          "name": "stdout",
          "text": [
            "\n",
            "sambamba 0.8.2\n",
            " by Artem Tarasov and Pjotr Prins (C) 2012-2021\n",
            "    LDC 1.27.1 / DMD v2.097.2 / LLVM11.0.0 / bootstrap LDC - the LLVM D compiler (1.27.1)\n",
            "\n"
          ]
        }
      ]
    },
    {
      "cell_type": "code",
      "source": [
        "!time sambamba sort -n -t 2 -m 8GB --tmpdir=./ peaks.bam"
      ],
      "metadata": {
        "colab": {
          "base_uri": "https://localhost:8080/"
        },
        "id": "kaW-Qqr5quAg",
        "outputId": "7aeffb95-c0bf-4469-d969-b289202f7a8e"
      },
      "execution_count": 25,
      "outputs": [
        {
          "output_type": "stream",
          "name": "stdout",
          "text": [
            "\n",
            "sambamba 0.8.2\n",
            " by Artem Tarasov and Pjotr Prins (C) 2012-2021\n",
            "    LDC 1.27.1 / DMD v2.097.2 / LLVM11.0.0 / bootstrap LDC - the LLVM D compiler (1.27.1)\n",
            "\n",
            "\n",
            "real\t0m3.770s\n",
            "user\t0m6.507s\n",
            "sys\t0m0.481s\n"
          ]
        }
      ]
    },
    {
      "cell_type": "code",
      "source": [
        "!time Genrich -t peaks.sorted.bam -o peaks.narrowPeak -f peaks.log -v"
      ],
      "metadata": {
        "colab": {
          "base_uri": "https://localhost:8080/"
        },
        "id": "3FZ8TgLHrRoO",
        "outputId": "2b151e26-acea-4f77-a975-d94d97649a85"
      },
      "execution_count": 34,
      "outputs": [
        {
          "output_type": "stream",
          "name": "stdout",
          "text": [
            "Processing experimental file #0: peaks.sorted.bam\n",
            "  BAM records analyzed:      500166\n",
            "    Unmapped:                 25581\n",
            "    Supp./dups/lowQual:         166\n",
            "    Paired alignments:       447022\n",
            "    Unpaired alignments:      27397\n",
            "  Fragments analyzed:        223511\n",
            "    Full fragments:          223511\n",
            "      (avg. length: 174.4bp)\n",
            "- control file #0 not provided -\n",
            "  Background pileup value: 0.012576\n",
            "Peak-calling parameters:\n",
            "  Genome length: 3099750718bp\n",
            "  Significance threshold: -log(p) > 2.000\n",
            "  Min. AUC: 200.000\n",
            "  Max. gap between sites: 100bp\n",
            "Peaks identified: 150592 (32552110bp)\n",
            "\n",
            "real\t0m21.208s\n",
            "user\t0m14.941s\n",
            "sys\t0m6.146s\n"
          ]
        }
      ]
    },
    {
      "cell_type": "code",
      "source": [
        "!head peaks.narrowPeak"
      ],
      "metadata": {
        "colab": {
          "base_uri": "https://localhost:8080/"
        },
        "id": "WdXXUGAproEs",
        "outputId": "b310e727-1b3b-4f54-cb7c-cac02d432d51"
      },
      "execution_count": 35,
      "outputs": [
        {
          "output_type": "stream",
          "name": "stdout",
          "text": [
            "1\t10015\t10460\tpeak_0\t1000\t.\t3304.893066\t12.412954\t-1\t105\n",
            "1\t11154\t11266\tpeak_1\t1000\t.\t449.575562\t6.782719\t-1\t87\n",
            "1\t29210\t29373\tpeak_2\t1000\t.\t779.583130\t6.782719\t-1\t81\n",
            "1\t29480\t29798\tpeak_3\t1000\t.\t1573.081665\t8.581930\t-1\t150\n",
            "1\t99502\t99868\tpeak_4\t1000\t.\t1750.474976\t6.782719\t-1\t183\n",
            "1\t104185\t104255\tpeak_5\t1000\t.\t334.790314\t6.782719\t-1\t35\n",
            "1\t143396\t143517\tpeak_6\t1000\t.\t578.708984\t6.782719\t-1\t60\n",
            "1\t149332\t149519\tpeak_7\t1000\t.\t894.368408\t6.782719\t-1\t93\n",
            "1\t180546\t180929\tpeak_8\t1000\t.\t1831.781250\t6.782719\t-1\t191\n",
            "1\t181290\t181834\tpeak_9\t1000\t.\t3828.631592\t11.901150\t-1\t194\n"
          ]
        }
      ]
    },
    {
      "cell_type": "code",
      "source": [
        "!cat peaks.narrowPeak | bedtools sort | bedtools merge > atac_all_peaks.bed"
      ],
      "metadata": {
        "id": "4iulM0sgr0oe"
      },
      "execution_count": 45,
      "outputs": []
    },
    {
      "cell_type": "code",
      "source": [
        "!bedtools getfasta -fi Homo_sapiens.GRCh38.dna.primary_assembly.fa.gz -bed atac_all_peaks.bed -fo atac_all_peaks.fa"
      ],
      "metadata": {
        "colab": {
          "base_uri": "https://localhost:8080/"
        },
        "id": "y4hlBXQJsk9l",
        "outputId": "c7e06e33-3fa6-4144-f97e-d38ce0ad3253"
      },
      "execution_count": 47,
      "outputs": [
        {
          "output_type": "stream",
          "name": "stdout",
          "text": [
            "index file Homo_sapiens.GRCh38.dna.primary_assembly.fa.gz.fai not found, generating...\n",
            "ERROR: mismatched line lengths at line 3 within sequence \n",
            "File not suitable for fasta index generation.\n"
          ]
        }
      ]
    },
    {
      "cell_type": "code",
      "source": [],
      "metadata": {
        "id": "L4TPjpcHsuZS"
      },
      "execution_count": null,
      "outputs": []
    }
  ]
}