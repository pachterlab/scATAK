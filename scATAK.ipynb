{
  "nbformat": 4,
  "nbformat_minor": 0,
  "metadata": {
    "colab": {
      "provenance": [],
      "authorship_tag": "ABX9TyPjbdupppwk8b/3hKaX0Ox2",
      "include_colab_link": true
    },
    "kernelspec": {
      "name": "python3",
      "display_name": "Python 3"
    },
    "language_info": {
      "name": "python"
    }
  },
  "cells": [
    {
      "cell_type": "markdown",
      "metadata": {
        "id": "view-in-github",
        "colab_type": "text"
      },
      "source": [
        "<a href=\"https://colab.research.google.com/github/pachterlab/scATAK/blob/main/scATAK.ipynb\" target=\"_parent\"><img src=\"https://colab.research.google.com/assets/colab-badge.svg\" alt=\"Open In Colab\"/></a>"
      ]
    },
    {
      "cell_type": "code",
      "execution_count": 4,
      "metadata": {
        "colab": {
          "base_uri": "https://localhost:8080/"
        },
        "id": "I-jilmzPWGlJ",
        "outputId": "ac89de7e-ed20-432a-d7c6-dba2874c301a"
      },
      "outputs": [
        {
          "output_type": "stream",
          "name": "stdout",
          "text": [
            "\r          minimap2-   0%[                    ]       0  --.-KB/s               \rminimap2-2.24_x64-l 100%[===================>]   2.04M  --.-KB/s    in 0.06s   \n",
            "minimap2-2.24_x64-linux/\n",
            "minimap2-2.24_x64-linux/LICENSE.txt\n",
            "minimap2-2.24_x64-linux/k8\n",
            "minimap2-2.24_x64-linux/README-js.md\n",
            "minimap2-2.24_x64-linux/paftools.js\n",
            "minimap2-2.24_x64-linux/minimap2\n",
            "minimap2-2.24_x64-linux/README.md\n",
            "minimap2-2.24_x64-linux/cookbook.md\n",
            "minimap2-2.24_x64-linux/minimap2.1\n",
            "minimap2-2.24_x64-linux/NEWS.md\n"
          ]
        }
      ],
      "source": [
        "# install minimap to find peaks\n",
        "!wget --quiet --show-progress \"https://github.com/lh3/minimap2/releases/download/v2.24/minimap2-2.24_x64-linux.tar.bz2\"\n",
        "!tar -jxvf minimap2-2.24_x64-linux.tar.bz2\n",
        "!cp minimap2-2.24_x64-linux/minimap2 /usr/local/bin"
      ]
    },
    {
      "cell_type": "code",
      "source": [
        "!minimap2"
      ],
      "metadata": {
        "colab": {
          "base_uri": "https://localhost:8080/"
        },
        "id": "ikn1dEZ1XGn2",
        "outputId": "f7b8b62b-b543-43b2-fec9-49acce6f20be"
      },
      "execution_count": 8,
      "outputs": [
        {
          "output_type": "stream",
          "name": "stdout",
          "text": [
            "Usage: minimap2 [options] <target.fa>|<target.idx> [query.fa] [...]\n",
            "Options:\n",
            "  Indexing:\n",
            "    -H           use homopolymer-compressed k-mer (preferrable for PacBio)\n",
            "    -k INT       k-mer size (no larger than 28) [15]\n",
            "    -w INT       minimizer window size [10]\n",
            "    -I NUM       split index for every ~NUM input bases [4G]\n",
            "    -d FILE      dump index to FILE []\n",
            "  Mapping:\n",
            "    -f FLOAT     filter out top FLOAT fraction of repetitive minimizers [0.0002]\n",
            "    -g NUM       stop chain enlongation if there are no minimizers in INT-bp [5000]\n",
            "    -G NUM       max intron length (effective with -xsplice; changing -r) [200k]\n",
            "    -F NUM       max fragment length (effective with -xsr or in the fragment mode) [800]\n",
            "    -r NUM[,NUM] chaining/alignment bandwidth and long-join bandwidth [500,20000]\n",
            "    -n INT       minimal number of minimizers on a chain [3]\n",
            "    -m INT       minimal chaining score (matching bases minus log gap penalty) [40]\n",
            "    -X           skip self and dual mappings (for the all-vs-all mode)\n",
            "    -p FLOAT     min secondary-to-primary score ratio [0.8]\n",
            "    -N INT       retain at most INT secondary alignments [5]\n",
            "  Alignment:\n",
            "    -A INT       matching score [2]\n",
            "    -B INT       mismatch penalty (larger value for lower divergence) [4]\n",
            "    -O INT[,INT] gap open penalty [4,24]\n",
            "    -E INT[,INT] gap extension penalty; a k-long gap costs min{O1+k*E1,O2+k*E2} [2,1]\n",
            "    -z INT[,INT] Z-drop score and inversion Z-drop score [400,200]\n",
            "    -s INT       minimal peak DP alignment score [80]\n",
            "    -u CHAR      how to find GT-AG. f:transcript strand, b:both strands, n:don't match GT-AG [n]\n",
            "  Input/Output:\n",
            "    -a           output in the SAM format (PAF by default)\n",
            "    -o FILE      output alignments to FILE [stdout]\n",
            "    -L           write CIGAR with >65535 ops at the CG tag\n",
            "    -R STR       SAM read group line in a format like '@RG\\tID:foo\\tSM:bar' []\n",
            "    -c           output CIGAR in PAF\n",
            "    --cs[=STR]   output the cs tag; STR is 'short' (if absent) or 'long' [none]\n",
            "    --MD         output the MD tag\n",
            "    --eqx        write =/X CIGAR operators\n",
            "    -Y           use soft clipping for supplementary alignments\n",
            "    -t INT       number of threads [3]\n",
            "    -K NUM       minibatch size for mapping [500M]\n",
            "    --version    show version number\n",
            "  Preset:\n",
            "    -x STR       preset (always applied before other options; see minimap2.1 for details) []\n",
            "                 - map-pb/map-ont - PacBio CLR/Nanopore vs reference mapping\n",
            "                 - map-hifi - PacBio HiFi reads vs reference mapping\n",
            "                 - ava-pb/ava-ont - PacBio/Nanopore read overlap\n",
            "                 - asm5/asm10/asm20 - asm-to-ref mapping, for ~0.1/1/5% sequence divergence\n",
            "                 - splice/splice:hq - long-read/Pacbio-CCS spliced alignment\n",
            "                 - sr - genomic short-read mapping\n",
            "\n",
            "See `man ./minimap2.1' for detailed description of these and other advanced command-line options.\n"
          ]
        }
      ]
    },
    {
      "cell_type": "code",
      "source": [
        "!wget --quiet --show-progress \"http://ftp.ensembl.org/pub/release-104/fasta/homo_sapiens/dna/Homo_sapiens.GRCh38.dna.primary_assembly.fa.gz\""
      ],
      "metadata": {
        "colab": {
          "base_uri": "https://localhost:8080/"
        },
        "id": "29hU4nwMWLjx",
        "outputId": "623995d3-830c-441f-a882-639a8c661332"
      },
      "execution_count": 9,
      "outputs": [
        {
          "output_type": "stream",
          "name": "stdout",
          "text": [
            "--2022-09-30 17:06:13--  http://ftp.ensembl.org/pub/release-104/fasta/homo_sapiens/dna/Homo_sapiens.GRCh38.dna.primary_assembly.fa.gz\n",
            "Resolving ftp.ensembl.org (ftp.ensembl.org)... 193.62.193.139\n",
            "Connecting to ftp.ensembl.org (ftp.ensembl.org)|193.62.193.139|:80... connected.\n",
            "HTTP request sent, awaiting response... 200 OK\n",
            "Length: 881211416 (840M) [application/x-gzip]\n",
            "Saving to: ‘Homo_sapiens.GRCh38.dna.primary_assembly.fa.gz’\n",
            "\n",
            "Homo_sapiens.GRCh38 100%[===================>] 840.39M  23.9MB/s    in 4m 24s  \n",
            "\n",
            "2022-09-30 17:10:37 (3.18 MB/s) - ‘Homo_sapiens.GRCh38.dna.primary_assembly.fa.gz’ saved [881211416/881211416]\n",
            "\n"
          ]
        }
      ]
    },
    {
      "cell_type": "code",
      "source": [
        "!time minimap2 \\\n",
        "-d ref.mmi \\\n",
        "Homo_sapiens.GRCh38.dna.primary_assembly.fa.gz"
      ],
      "metadata": {
        "colab": {
          "base_uri": "https://localhost:8080/"
        },
        "id": "K-bh3JzGWR6f",
        "outputId": "06983eb3-ce4f-488f-9798-cdf1522d31ab"
      },
      "execution_count": 10,
      "outputs": [
        {
          "output_type": "stream",
          "name": "stdout",
          "text": [
            "tcmalloc: large alloc 1073741824 bytes == 0x6a698000 @  0x7effc6ef72a4 0x414d2d 0x406c48 0x4129cf 0x7effc66f06db 0x7effc641961f\n",
            "tcmalloc: large alloc 2147483648 bytes == 0x27d99e000 @  0x7effc6ef72a4 0x406fee 0x4129cf 0x7effc66f06db 0x7effc641961f\n",
            "[M::mm_idx_gen::127.246*1.68] collected minimizers\n",
            "[M::mm_idx_gen::161.853*1.73] sorted minimizers\n",
            "[M::main::190.503*1.54] loaded/built the index for 194 target sequence(s)\n",
            "[M::mm_idx_stat] kmer size: 15; skip: 10; is_hpc: 0; #seq: 194\n",
            "[M::mm_idx_stat::192.955*1.53] distinct minimizers: 100159079 (38.79% are singletons); average occurrences: 5.540; average spacing: 5.586; total length: 3099750718\n",
            "[M::main] Version: 2.24-r1122\n",
            "[M::main] CMD: minimap2 -d ref.mmi Homo_sapiens.GRCh38.dna.primary_assembly.fa.gz\n",
            "[M::main] Real time: 194.609 sec; CPU: 296.872 sec; Peak RSS: 11.262 GB\n",
            "\n",
            "real\t3m15.225s\n",
            "user\t4m14.967s\n",
            "sys\t0m42.510s\n"
          ]
        }
      ]
    },
    {
      "cell_type": "code",
      "source": [
        "!minimap2 -ax sr -t2 ref.mmi \\\n",
        "   <(paste \\\n",
        "     <(zcat $r1_fastq) \\\n",
        "     <(zcat $r2_fastq) \\\n",
        "     | awk -v blen=\"$BLEN\" '{if(NR%4==1) header=$1; if(NR%4==2) print header\"_\"substr($2, 0, blen)\"_\\n\"$1; if(NR%4==3 || NR%4==0) print $1;}') \\\n",
        "   <(paste \\\n",
        "     <(zcat $r3_fastq) \\\n",
        "     <(zcat $r2_fastq) \\\n",
        "     | awk -v blen=\"$BLEN\" '{if(NR%4==1) header=$1; if(NR%4==2) print header\"_\"substr($2, 0, blen)\"_\\n\"$1; if(NR%4==3 || NR%4==0) print $1;}') \\\n",
        "   > peaks.sam"
      ],
      "metadata": {
        "id": "1CtYe1_dXTmR"
      },
      "execution_count": null,
      "outputs": []
    },
    {
      "cell_type": "code",
      "source": [
        "# once you get data, put up a minimal dataset on github"
      ],
      "metadata": {
        "id": "akb7HG0wb8GC"
      },
      "execution_count": 11,
      "outputs": []
    },
    {
      "cell_type": "code",
      "source": [],
      "metadata": {
        "id": "dyxYGeI1b-FL"
      },
      "execution_count": null,
      "outputs": []
    }
  ]
}