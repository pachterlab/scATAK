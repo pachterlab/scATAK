{
  "nbformat": 4,
  "nbformat_minor": 0,
  "metadata": {
    "colab": {
      "provenance": [],
      "authorship_tag": "ABX9TyO/I2gB/OLa3YKOnadNDaU7",
      "include_colab_link": true
    },
    "kernelspec": {
      "name": "python3",
      "display_name": "Python 3"
    },
    "language_info": {
      "name": "python"
    }
  },
  "cells": [
    {
      "cell_type": "markdown",
      "metadata": {
        "id": "view-in-github",
        "colab_type": "text"
      },
      "source": [
        "<a href=\"https://colab.research.google.com/github/pachterlab/scATAK/blob/main/scATAK.ipynb\" target=\"_parent\"><img src=\"https://colab.research.google.com/assets/colab-badge.svg\" alt=\"Open In Colab\"/></a>"
      ]
    },
    {
      "cell_type": "code",
      "source": [
        "import time\n",
        "start_time = time.time()"
      ],
      "metadata": {
        "id": "cpfwvPm80MZ6"
      },
      "execution_count": 4,
      "outputs": []
    },
    {
      "cell_type": "code",
      "source": [
        "!curl -Ls https://github.com/pachterlab/scATAK/blob/main/data/min-R1.fastq.gz?raw=true > min-R1.fastq.gz\n",
        "!curl -Ls https://github.com/pachterlab/scATAK/blob/main/data/min-R2.fastq.gz?raw=true > min-R2.fastq.gz\n",
        "!curl -Ls https://github.com/pachterlab/scATAK/blob/main/data/min-R3.fastq.gz?raw=true > min-R3.fastq.gz\n",
        "!curl -Ls https://github.com/pachterlab/scATAK/blob/main/lib/737K-cratac-v1.txt?raw=true > 737K-cratac-v1.txt"
      ],
      "metadata": {
        "id": "rBiSoRraoG-G"
      },
      "execution_count": 5,
      "outputs": []
    },
    {
      "cell_type": "code",
      "source": [],
      "metadata": {
        "id": "a7QLisaHYl9G"
      },
      "execution_count": 5,
      "outputs": []
    },
    {
      "cell_type": "code",
      "execution_count": 6,
      "metadata": {
        "colab": {
          "base_uri": "https://localhost:8080/"
        },
        "id": "I-jilmzPWGlJ",
        "outputId": "1f363760-b578-4cc9-923f-9ae835b84d75"
      },
      "outputs": [
        {
          "output_type": "stream",
          "name": "stdout",
          "text": [
            "\u001b[K     |████████████████████████████████| 7.5 MB 5.8 MB/s \n",
            "\u001b[K     |████████████████████████████████| 96 kB 5.8 MB/s \n",
            "\u001b[K     |████████████████████████████████| 4.8 MB 51.0 MB/s \n",
            "\u001b[K     |████████████████████████████████| 45.2 MB 56 kB/s \n",
            "\u001b[K     |████████████████████████████████| 2.0 MB 42.6 MB/s \n",
            "\u001b[K     |████████████████████████████████| 15.1 MB 22.1 MB/s \n",
            "\u001b[K     |████████████████████████████████| 11.2 MB 22.2 MB/s \n",
            "\u001b[K     |████████████████████████████████| 88 kB 7.5 MB/s \n",
            "\u001b[K     |████████████████████████████████| 960 kB 64.9 MB/s \n",
            "\u001b[K     |████████████████████████████████| 1.1 MB 42.7 MB/s \n",
            "\u001b[K     |████████████████████████████████| 63 kB 2.2 MB/s \n",
            "\u001b[?25h  Building wheel for kb-python (setup.py) ... \u001b[?25l\u001b[?25hdone\n",
            "  Building wheel for loompy (setup.py) ... \u001b[?25l\u001b[?25hdone\n",
            "  Building wheel for ngs-tools (setup.py) ... \u001b[?25l\u001b[?25hdone\n",
            "  Building wheel for umap-learn (setup.py) ... \u001b[?25l\u001b[?25hdone\n",
            "  Building wheel for pynndescent (setup.py) ... \u001b[?25l\u001b[?25hdone\n",
            "  Building wheel for session-info (setup.py) ... \u001b[?25l\u001b[?25hdone\n",
            "minimap2-2.24_x64-l 100%[===================>]   2.04M  --.-KB/s    in 0.1s    \n",
            "minimap2-2.24_x64-linux/\n",
            "minimap2-2.24_x64-linux/LICENSE.txt\n",
            "minimap2-2.24_x64-linux/k8\n",
            "minimap2-2.24_x64-linux/README-js.md\n",
            "minimap2-2.24_x64-linux/paftools.js\n",
            "minimap2-2.24_x64-linux/minimap2\n",
            "minimap2-2.24_x64-linux/README.md\n",
            "minimap2-2.24_x64-linux/cookbook.md\n",
            "minimap2-2.24_x64-linux/minimap2.1\n",
            "minimap2-2.24_x64-linux/NEWS.md\n",
            "sambamba-0.8.2-linu 100%[===================>]   4.73M  7.64MB/s    in 0.6s    \n",
            "Cloning into 'Genrich'...\n",
            "remote: Enumerating objects: 532, done.\u001b[K\n",
            "remote: Counting objects: 100% (11/11), done.\u001b[K\n",
            "remote: Compressing objects: 100% (6/6), done.\u001b[K\n",
            "remote: Total 532 (delta 5), reused 11 (delta 5), pack-reused 521\u001b[K\n",
            "Receiving objects: 100% (532/532), 445.96 KiB | 1.80 MiB/s, done.\n",
            "Resolving deltas: 100% (302/302), done.\n",
            "gcc -g -Wall -std=gnu99 -O2 -o Genrich Genrich.c -lz -lm\n",
            "bedtools.static.bin 100%[===================>]  40.05M  35.2MB/s    in 1.1s    \n",
            "Branch 'shareseq' set up to track remote branch 'shareseq' from 'origin'.\n",
            "Switched to a new branch 'shareseq'\n",
            "Selecting previously unselected package libsigsegv2:amd64.\n",
            "(Reading database ... 123934 files and directories currently installed.)\n",
            "Preparing to unpack .../libsigsegv2_2.12-1_amd64.deb ...\n",
            "Unpacking libsigsegv2:amd64 (2.12-1) ...\n",
            "Selecting previously unselected package m4.\n",
            "Preparing to unpack .../archives/m4_1.4.18-1_amd64.deb ...\n",
            "Unpacking m4 (1.4.18-1) ...\n",
            "Selecting previously unselected package autoconf.\n",
            "Preparing to unpack .../autoconf_2.69-11_all.deb ...\n",
            "Unpacking autoconf (2.69-11) ...\n",
            "Selecting previously unselected package autotools-dev.\n",
            "Preparing to unpack .../autotools-dev_20180224.1_all.deb ...\n",
            "Unpacking autotools-dev (20180224.1) ...\n",
            "Selecting previously unselected package automake.\n",
            "Preparing to unpack .../automake_1%3a1.15.1-3ubuntu2_all.deb ...\n",
            "Unpacking automake (1:1.15.1-3ubuntu2) ...\n",
            "Setting up libsigsegv2:amd64 (2.12-1) ...\n",
            "Setting up m4 (1.4.18-1) ...\n",
            "Setting up autotools-dev (20180224.1) ...\n",
            "Setting up autoconf (2.69-11) ...\n",
            "Setting up automake (1:1.15.1-3ubuntu2) ...\n",
            "update-alternatives: using /usr/bin/automake-1.15 to provide /usr/bin/automake (automake) in auto mode\n",
            "Processing triggers for libc-bin (2.27-3ubuntu1.6) ...\n",
            "Processing triggers for man-db (2.8.3-2ubuntu0.1) ...\n",
            "-- The C compiler identification is GNU 7.5.0\n",
            "-- The CXX compiler identification is GNU 7.5.0\n",
            "-- Detecting C compiler ABI info\n",
            "-- Detecting C compiler ABI info - done\n",
            "-- Check for working C compiler: /usr/bin/cc - skipped\n",
            "-- Detecting C compile features\n",
            "-- Detecting C compile features - done\n",
            "-- Detecting CXX compiler ABI info\n",
            "-- Detecting CXX compiler ABI info - done\n",
            "-- Check for working CXX compiler: /usr/bin/c++ - skipped\n",
            "-- Detecting CXX compile features\n",
            "-- Detecting CXX compile features - done\n",
            "\u001b[0mshared build\u001b[0m\n",
            "-- Looking for pthread.h\n",
            "-- Looking for pthread.h - found\n",
            "-- Performing Test CMAKE_HAVE_LIBC_PTHREAD\n",
            "-- Performing Test CMAKE_HAVE_LIBC_PTHREAD - Failed\n",
            "-- Looking for pthread_create in pthreads\n",
            "-- Looking for pthread_create in pthreads - not found\n",
            "-- Looking for pthread_create in pthread\n",
            "-- Looking for pthread_create in pthread - found\n",
            "-- Found Threads: TRUE  \n",
            "-- Found ZLIB: /usr/lib/x86_64-linux-gnu/libz.so (found version \"1.2.11\") \n",
            "-- Configuring done\n",
            "-- Generating done\n",
            "-- Build files have been written to: /content/kallisto/build\n"
          ]
        }
      ],
      "source": [
        "# kb python for quantification\n",
        "!pip install --quiet kb-python\n",
        "\n",
        "# install minimap for mapping paired end reads\n",
        "!wget --quiet --show-progress \"https://github.com/lh3/minimap2/releases/download/v2.24/minimap2-2.24_x64-linux.tar.bz2\"\n",
        "!tar -jxvf minimap2-2.24_x64-linux.tar.bz2\n",
        "!cp minimap2-2.24_x64-linux/minimap2 /usr/local/bin\n",
        "\n",
        "# Insstall sambamba for sam file manipulation\n",
        "!wget --quiet --show-progress https://github.com/biod/sambamba/releases/download/v0.8.2/sambamba-0.8.2-linux-amd64-static.gz\n",
        "!gunzip sambamba-0.8.2-linux-amd64-static.gz\n",
        "!chmod +x /content/sambamba-0.8.2-linux-amd64-static\n",
        "!mv sambamba-0.8.2-linux-amd64-static /usr/local/bin/sambamba\n",
        "\n",
        "# Genrich for peak callling\n",
        "!git clone https://github.com/jsh58/Genrich.git\n",
        "!cd Genrich && make && cp Genrich /usr/local/bin\n",
        "\n",
        "# bedtools for slicing the peaks\n",
        "!wget --quiet --show-progress https://github.com/arq5x/bedtools2/releases/download/v2.30.0/bedtools.static.binary\n",
        "!chmod +x /content/bedtools.static.binary\n",
        "!mv /content/bedtools.static.binary /usr/local/bin/bedtools\n",
        "\n",
        "!git clone --quiet https://github.com/pachterlab/kallisto && cd kallisto && git checkout shareseq\n",
        "!apt-get -qq install autoconf\n",
        "!cd kallisto && mkdir build && cd build && cmake .. && make &> /dev/null\n",
        "!cp kallisto/build/src/kallisto $(pip show kb-python | grep \"Location\" | cut -f2 -d\":\")/kb_python/bins/linux/kallisto/kallisto\n",
        "!cp kallisto/build/src/kallisto /usr/local/bin\n",
        "!cp $(pip show kb-python | grep \"Location\" | cut -f2 -d\":\")/kb_python/bins/linux/bustools/bustools /usr/local/bin"
      ]
    },
    {
      "cell_type": "code",
      "source": [
        "!kallisto bus --list"
      ],
      "metadata": {
        "colab": {
          "base_uri": "https://localhost:8080/"
        },
        "id": "VWltHmTLWzjw",
        "outputId": "bb7a431f-6b37-475d-a09c-112494bfcce9"
      },
      "execution_count": 7,
      "outputs": [
        {
          "output_type": "stream",
          "name": "stdout",
          "text": [
            "List of supported single-cell technologies\n",
            "\n",
            "short name       description\n",
            "----------       -----------\n",
            "10xv1            10x version 1 chemistry\n",
            "10xv2            10x version 2 chemistry\n",
            "10xv3            10x version 3 chemistry\n",
            "10xATAC          10x ATAC\n",
            "Bulk             Bulk RNA-seq or Smart-seq2 (multiplexed)\n",
            "BDWTA            BD Rhapsody WTA\n",
            "CELSeq           CEL-Seq\n",
            "CELSeq2          CEL-Seq version 2\n",
            "DropSeq          DropSeq\n",
            "inDropsv1        inDrops version 1 chemistry\n",
            "inDropsv2        inDrops version 2 chemistry\n",
            "inDropsv3        inDrops version 3 chemistry\n",
            "SCRBSeq          SCRB-Seq\n",
            "SHARE-seq        SHARE-seq RNA\n",
            "SmartSeq3        Smart-seq3\n",
            "SPLiT-seq        SPLiT-seq\n",
            "SureCell         SureCell for ddSEQ\n",
            "Visium           10x Visium Spatial Transcriptomics\n",
            "\n"
          ]
        }
      ]
    },
    {
      "cell_type": "code",
      "source": [
        "!minimap2"
      ],
      "metadata": {
        "colab": {
          "base_uri": "https://localhost:8080/"
        },
        "id": "ikn1dEZ1XGn2",
        "outputId": "365fb34f-3514-4853-d0c8-1da72dbf7c72"
      },
      "execution_count": 8,
      "outputs": [
        {
          "output_type": "stream",
          "name": "stdout",
          "text": [
            "Usage: minimap2 [options] <target.fa>|<target.idx> [query.fa] [...]\n",
            "Options:\n",
            "  Indexing:\n",
            "    -H           use homopolymer-compressed k-mer (preferrable for PacBio)\n",
            "    -k INT       k-mer size (no larger than 28) [15]\n",
            "    -w INT       minimizer window size [10]\n",
            "    -I NUM       split index for every ~NUM input bases [4G]\n",
            "    -d FILE      dump index to FILE []\n",
            "  Mapping:\n",
            "    -f FLOAT     filter out top FLOAT fraction of repetitive minimizers [0.0002]\n",
            "    -g NUM       stop chain enlongation if there are no minimizers in INT-bp [5000]\n",
            "    -G NUM       max intron length (effective with -xsplice; changing -r) [200k]\n",
            "    -F NUM       max fragment length (effective with -xsr or in the fragment mode) [800]\n",
            "    -r NUM[,NUM] chaining/alignment bandwidth and long-join bandwidth [500,20000]\n",
            "    -n INT       minimal number of minimizers on a chain [3]\n",
            "    -m INT       minimal chaining score (matching bases minus log gap penalty) [40]\n",
            "    -X           skip self and dual mappings (for the all-vs-all mode)\n",
            "    -p FLOAT     min secondary-to-primary score ratio [0.8]\n",
            "    -N INT       retain at most INT secondary alignments [5]\n",
            "  Alignment:\n",
            "    -A INT       matching score [2]\n",
            "    -B INT       mismatch penalty (larger value for lower divergence) [4]\n",
            "    -O INT[,INT] gap open penalty [4,24]\n",
            "    -E INT[,INT] gap extension penalty; a k-long gap costs min{O1+k*E1,O2+k*E2} [2,1]\n",
            "    -z INT[,INT] Z-drop score and inversion Z-drop score [400,200]\n",
            "    -s INT       minimal peak DP alignment score [80]\n",
            "    -u CHAR      how to find GT-AG. f:transcript strand, b:both strands, n:don't match GT-AG [n]\n",
            "  Input/Output:\n",
            "    -a           output in the SAM format (PAF by default)\n",
            "    -o FILE      output alignments to FILE [stdout]\n",
            "    -L           write CIGAR with >65535 ops at the CG tag\n",
            "    -R STR       SAM read group line in a format like '@RG\\tID:foo\\tSM:bar' []\n",
            "    -c           output CIGAR in PAF\n",
            "    --cs[=STR]   output the cs tag; STR is 'short' (if absent) or 'long' [none]\n",
            "    --MD         output the MD tag\n",
            "    --eqx        write =/X CIGAR operators\n",
            "    -Y           use soft clipping for supplementary alignments\n",
            "    -t INT       number of threads [3]\n",
            "    -K NUM       minibatch size for mapping [500M]\n",
            "    --version    show version number\n",
            "  Preset:\n",
            "    -x STR       preset (always applied before other options; see minimap2.1 for details) []\n",
            "                 - map-pb/map-ont - PacBio CLR/Nanopore vs reference mapping\n",
            "                 - map-hifi - PacBio HiFi reads vs reference mapping\n",
            "                 - ava-pb/ava-ont - PacBio/Nanopore read overlap\n",
            "                 - asm5/asm10/asm20 - asm-to-ref mapping, for ~0.1/1/5% sequence divergence\n",
            "                 - splice/splice:hq - long-read/Pacbio-CCS spliced alignment\n",
            "                 - sr - genomic short-read mapping\n",
            "\n",
            "See `man ./minimap2.1' for detailed description of these and other advanced command-line options.\n"
          ]
        }
      ]
    },
    {
      "cell_type": "code",
      "source": [
        "!sambamba"
      ],
      "metadata": {
        "colab": {
          "base_uri": "https://localhost:8080/"
        },
        "id": "stCgVpazqcvJ",
        "outputId": "1c7ff84f-f6c3-4b0b-bfc5-ef4835d04a65"
      },
      "execution_count": 9,
      "outputs": [
        {
          "output_type": "stream",
          "name": "stdout",
          "text": [
            "\n",
            "sambamba 0.8.2\n",
            " by Artem Tarasov and Pjotr Prins (C) 2012-2021\n",
            "    LDC 1.27.1 / DMD v2.097.2 / LLVM11.0.0 / bootstrap LDC - the LLVM D compiler (1.27.1)\n",
            "\n",
            "\n",
            "Usage: sambamba [command] [args...]\n",
            "\n",
            "  Available commands:\n",
            "\n",
            "    view        view contents and convert from one format\n",
            "                to another (SAM/BAM/JSON/UNPACK)\n",
            "    index       build index (BAI)\n",
            "    merge       merge files (BAM)\n",
            "    sort        sort file (BAM)\n",
            "    slice       slice file (BAM using BED)\n",
            "    markdup     mark or remove duplicates (BAM)\n",
            "    subsample   subsample (BAM)\n",
            "    flagstat    output statistics (BAM)\n",
            "    depth       output statistics (BAM)\n",
            "    validate    simple validator (BAM)\n",
            "\n",
            "  No longer recommended:\n",
            "\n",
            "    mpileup     parallel execution of samtools (BAM)\n",
            "\n",
            "To get help on a particular command, call it without args.\n",
            "\n",
            "Global options\n",
            "\n",
            "    -q          quiet mode (do not show banner)\n",
            "\n",
            "For bug reports and feature requests see\n",
            "\n",
            "       https://github.com/biod/\n",
            "\n"
          ]
        }
      ]
    },
    {
      "cell_type": "code",
      "source": [
        "!Genrich"
      ],
      "metadata": {
        "colab": {
          "base_uri": "https://localhost:8080/"
        },
        "id": "mGzvudEKrZ6x",
        "outputId": "d6b95bf9-bb8e-4970-d696-26b5ca6ef8b5"
      },
      "execution_count": 10,
      "outputs": [
        {
          "output_type": "stream",
          "name": "stdout",
          "text": [
            "Error! Need input/output files\n",
            "Usage: ./Genrich  -t <file>  -o <file>  [optional arguments]\n",
            "Required arguments:\n",
            "  -t  <file>       Input SAM/BAM file(s) for experimental sample(s)\n",
            "  -o  <file>       Output peak file (in ENCODE narrowPeak format)\n",
            "Optional I/O arguments:\n",
            "  -c  <file>       Input SAM/BAM file(s) for control sample(s)\n",
            "  -f  <file>       Output bedgraph-ish file for p/q values\n",
            "  -k  <file>       Output bedgraph-ish file for pileups and p-values\n",
            "  -b  <file>       Output BED file for reads/fragments/intervals\n",
            "  -R  <file>       Output file for PCR duplicates (only with -r)\n",
            "Filtering options:\n",
            "  -r               Remove PCR duplicates\n",
            "  -e  <arg>        Comma-separated list of chromosomes to exclude\n",
            "  -E  <file>       Input BED file(s) of genomic regions to exclude\n",
            "  -m  <int>        Minimum MAPQ to keep an alignment (def. 0)\n",
            "  -s  <float>      Keep sec alns with AS >= bestAS - <float> (def. 0)\n",
            "  -y               Keep unpaired alignments (def. false)\n",
            "  -w  <int>        Keep unpaired alns, lengths changed to <int>\n",
            "  -x               Keep unpaired alns, lengths changed to paired avg\n",
            "Options for ATAC-seq:\n",
            "  -j               Use ATAC-seq mode (def. false)\n",
            "  -d  <int>        Expand cut sites to <int> bp (def. 100)\n",
            "  -D               Skip Tn5 adjustments of cut sites (def. false)\n",
            "Options for peak-calling:\n",
            "  -p  <float>      Maximum p-value (def. 0.01)\n",
            "  -q  <float>      Maximum q-value (FDR-adjusted p-value; def. 1)\n",
            "  -a  <float>      Minimum AUC for a peak (def. 200.0)\n",
            "  -l  <int>        Minimum length of a peak (def. 0)\n",
            "  -g  <int>        Maximum distance between signif. sites (def. 100)\n",
            "Other options:\n",
            "  -X               Skip peak-calling\n",
            "  -P               Call peaks directly from a log file (-f)\n",
            "  -z               Option to gzip-compress output(s)\n",
            "  -v               Option to print status updates/counts to stderr\n"
          ]
        }
      ]
    },
    {
      "cell_type": "code",
      "source": [
        "!bedtools"
      ],
      "metadata": {
        "colab": {
          "base_uri": "https://localhost:8080/"
        },
        "id": "_I3nfoRMsVT2",
        "outputId": "8badb4fc-a474-4e2b-b370-9a078725bb43"
      },
      "execution_count": 11,
      "outputs": [
        {
          "output_type": "stream",
          "name": "stdout",
          "text": [
            "bedtools is a powerful toolset for genome arithmetic.\n",
            "\n",
            "Version:   v2.30.0\n",
            "About:     developed in the quinlanlab.org and by many contributors worldwide.\n",
            "Docs:      http://bedtools.readthedocs.io/\n",
            "Code:      https://github.com/arq5x/bedtools2\n",
            "Mail:      https://groups.google.com/forum/#!forum/bedtools-discuss\n",
            "\n",
            "Usage:     bedtools <subcommand> [options]\n",
            "\n",
            "The bedtools sub-commands include:\n",
            "\n",
            "[ Genome arithmetic ]\n",
            "    intersect     Find overlapping intervals in various ways.\n",
            "    window        Find overlapping intervals within a window around an interval.\n",
            "    closest       Find the closest, potentially non-overlapping interval.\n",
            "    coverage      Compute the coverage over defined intervals.\n",
            "    map           Apply a function to a column for each overlapping interval.\n",
            "    genomecov     Compute the coverage over an entire genome.\n",
            "    merge         Combine overlapping/nearby intervals into a single interval.\n",
            "    cluster       Cluster (but don't merge) overlapping/nearby intervals.\n",
            "    complement    Extract intervals _not_ represented by an interval file.\n",
            "    shift         Adjust the position of intervals.\n",
            "    subtract      Remove intervals based on overlaps b/w two files.\n",
            "    slop          Adjust the size of intervals.\n",
            "    flank         Create new intervals from the flanks of existing intervals.\n",
            "    sort          Order the intervals in a file.\n",
            "    random        Generate random intervals in a genome.\n",
            "    shuffle       Randomly redistribute intervals in a genome.\n",
            "    sample        Sample random records from file using reservoir sampling.\n",
            "    spacing       Report the gap lengths between intervals in a file.\n",
            "    annotate      Annotate coverage of features from multiple files.\n",
            "\n",
            "[ Multi-way file comparisons ]\n",
            "    multiinter    Identifies common intervals among multiple interval files.\n",
            "    unionbedg     Combines coverage intervals from multiple BEDGRAPH files.\n",
            "\n",
            "[ Paired-end manipulation ]\n",
            "    pairtobed     Find pairs that overlap intervals in various ways.\n",
            "    pairtopair    Find pairs that overlap other pairs in various ways.\n",
            "\n",
            "[ Format conversion ]\n",
            "    bamtobed      Convert BAM alignments to BED (& other) formats.\n",
            "    bedtobam      Convert intervals to BAM records.\n",
            "    bamtofastq    Convert BAM records to FASTQ records.\n",
            "    bedpetobam    Convert BEDPE intervals to BAM records.\n",
            "    bed12tobed6   Breaks BED12 intervals into discrete BED6 intervals.\n",
            "\n",
            "[ Fasta manipulation ]\n",
            "    getfasta      Use intervals to extract sequences from a FASTA file.\n",
            "    maskfasta     Use intervals to mask sequences from a FASTA file.\n",
            "    nuc           Profile the nucleotide content of intervals in a FASTA file.\n",
            "\n",
            "[ BAM focused tools ]\n",
            "    multicov      Counts coverage from multiple BAMs at specific intervals.\n",
            "    tag           Tag BAM alignments based on overlaps with interval files.\n",
            "\n",
            "[ Statistical relationships ]\n",
            "    jaccard       Calculate the Jaccard statistic b/w two sets of intervals.\n",
            "    reldist       Calculate the distribution of relative distances b/w two files.\n",
            "    fisher        Calculate Fisher statistic b/w two feature files.\n",
            "\n",
            "[ Miscellaneous tools ]\n",
            "    overlap       Computes the amount of overlap from two intervals.\n",
            "    igv           Create an IGV snapshot batch script.\n",
            "    links         Create a HTML page of links to UCSC locations.\n",
            "    makewindows   Make interval \"windows\" across a genome.\n",
            "    groupby       Group by common cols. & summarize oth. cols. (~ SQL \"groupBy\")\n",
            "    expand        Replicate lines based on lists of values in columns.\n",
            "    split         Split a file into multiple files with equal records or base pairs.\n",
            "    summary       Statistical summary of intervals in a file.\n",
            "\n",
            "[ General Parameters ]\n",
            "     --cram-ref    Reference used by a CRAM input\n",
            "\n",
            "[ General help ]\n",
            "    --help        Print this help menu.\n",
            "    --version     What version of bedtools are you using?.\n",
            "    --contact     Feature requests, bugs, mailing lists, etc.\n",
            "\n"
          ]
        }
      ]
    },
    {
      "cell_type": "code",
      "source": [
        "!wget --quiet --show-progress \"http://ftp.ensembl.org/pub/release-104/fasta/homo_sapiens/dna/Homo_sapiens.GRCh38.dna.primary_assembly.fa.gz\""
      ],
      "metadata": {
        "colab": {
          "base_uri": "https://localhost:8080/"
        },
        "id": "29hU4nwMWLjx",
        "outputId": "266b3a46-a460-40f1-d091-d36b55c2f2b5"
      },
      "execution_count": 12,
      "outputs": [
        {
          "output_type": "stream",
          "name": "stdout",
          "text": [
            "Homo_sapiens.GRCh38 100%[===================>] 840.39M  20.6MB/s    in 41s     \n"
          ]
        }
      ]
    },
    {
      "cell_type": "code",
      "source": [
        "!time minimap2 \\\n",
        "-d ref.mmi \\\n",
        "Homo_sapiens.GRCh38.dna.primary_assembly.fa.gz"
      ],
      "metadata": {
        "colab": {
          "base_uri": "https://localhost:8080/"
        },
        "id": "K-bh3JzGWR6f",
        "outputId": "15ed593d-3626-4309-8ecf-2dc6b9a1713b"
      },
      "execution_count": 13,
      "outputs": [
        {
          "output_type": "stream",
          "name": "stdout",
          "text": [
            "tcmalloc: large alloc 1073741824 bytes == 0x69590000 @  0x7f624e09a2a4 0x414d2d 0x406c48 0x4129cf 0x7f624d8936db 0x7f624d5bc61f\n",
            "tcmalloc: large alloc 2147483648 bytes == 0x27c916000 @  0x7f624e09a2a4 0x406fee 0x4129cf 0x7f624d8936db 0x7f624d5bc61f\n",
            "[M::mm_idx_gen::114.167*1.62] collected minimizers\n",
            "[M::mm_idx_gen::147.115*1.70] sorted minimizers\n",
            "[M::main::180.251*1.52] loaded/built the index for 194 target sequence(s)\n",
            "[M::mm_idx_stat] kmer size: 15; skip: 10; is_hpc: 0; #seq: 194\n",
            "[M::mm_idx_stat::182.304*1.52] distinct minimizers: 100159079 (38.79% are singletons); average occurrences: 5.540; average spacing: 5.586; total length: 3099750718\n",
            "[M::main] Version: 2.24-r1122\n",
            "[M::main] CMD: minimap2 -d ref.mmi Homo_sapiens.GRCh38.dna.primary_assembly.fa.gz\n",
            "[M::main] Real time: 184.058 sec; CPU: 278.006 sec; Peak RSS: 11.297 GB\n",
            "\n",
            "real\t3m4.686s\n",
            "user\t3m58.890s\n",
            "sys\t0m39.731s\n"
          ]
        }
      ]
    },
    {
      "cell_type": "code",
      "source": [
        "!time minimap2 -ax sr -t2 ref.mmi \\\n",
        "   <(paste \\\n",
        "     <(zcat min-R1.fastq.gz) \\\n",
        "     <(zcat min-R2.fastq.gz) \\\n",
        "     | awk -v blen=\"16\" '{if(NR%4==1) header=$1; if(NR%4==2) print header\"_\"substr($2, 0, blen)\"_\\n\"$1; if(NR%4==3 || NR%4==0) print $1;}') \\\n",
        "   <(paste \\\n",
        "     <(zcat min-R3.fastq.gz) \\\n",
        "     <(zcat min-R2.fastq.gz) \\\n",
        "     | awk -v blen=\"16\" '{if(NR%4==1) header=$1; if(NR%4==2) print header\"_\"substr($2, 0, blen)\"_\\n\"$1; if(NR%4==3 || NR%4==0) print $1;}') \\\n",
        "   > peaks.sam"
      ],
      "metadata": {
        "colab": {
          "base_uri": "https://localhost:8080/"
        },
        "id": "1CtYe1_dXTmR",
        "outputId": "ce98c5fb-c2ab-4de6-da77-45954edb0aa2"
      },
      "execution_count": 14,
      "outputs": [
        {
          "output_type": "stream",
          "name": "stdout",
          "text": [
            "tcmalloc: large alloc 1549877248 bytes == 0x17e694000 @  0x7feda71bf1e7 0x40a494 0x40a9b8 0x402995 0x7feda65e2c87 0x4018b9\n",
            "[WARNING]\u001b[1;31m Indexing parameters (-k, -w or -H) overridden by parameters used in the prebuilt index.\u001b[0m\n",
            "[M::main::31.118*0.45] loaded/built the index for 194 target sequence(s)\n",
            "[M::mm_mapopt_update::31.118*0.45] mid_occ = 1000\n",
            "[M::mm_idx_stat] kmer size: 15; skip: 10; is_hpc: 0; #seq: 194\n",
            "[M::mm_idx_stat::32.777*0.48] distinct minimizers: 100159079 (38.79% are singletons); average occurrences: 5.540; average spacing: 5.586; total length: 3099750718\n",
            "[M::worker_pipeline::75.276*1.25] mapped 500000 sequences\n",
            "[M::main] Version: 2.24-r1122\n",
            "[M::main] CMD: minimap2 -ax sr -t2 ref.mmi /dev/fd/63 /dev/fd/62\n",
            "[M::main] Real time: 76.279 sec; CPU: 95.168 sec; Peak RSS: 7.617 GB\n",
            "\n",
            "real\t1m16.805s\n",
            "user\t1m26.515s\n",
            "sys\t0m11.598s\n"
          ]
        }
      ]
    },
    {
      "cell_type": "code",
      "source": [
        "!sambamba view -t 2 -f bam -S -o peaks.bam peaks.sam\n",
        "!rm peaks.sam"
      ],
      "metadata": {
        "colab": {
          "base_uri": "https://localhost:8080/"
        },
        "id": "rNxoGKr3qBee",
        "outputId": "4cb6183f-762a-4ce5-d1b3-bb9ae26bb173"
      },
      "execution_count": 15,
      "outputs": [
        {
          "output_type": "stream",
          "name": "stdout",
          "text": [
            "\n",
            "sambamba 0.8.2\n",
            " by Artem Tarasov and Pjotr Prins (C) 2012-2021\n",
            "    LDC 1.27.1 / DMD v2.097.2 / LLVM11.0.0 / bootstrap LDC - the LLVM D compiler (1.27.1)\n",
            "\n"
          ]
        }
      ]
    },
    {
      "cell_type": "code",
      "source": [
        "!time sambamba sort -n -t 2 -m 8GB --tmpdir=./ peaks.bam"
      ],
      "metadata": {
        "colab": {
          "base_uri": "https://localhost:8080/"
        },
        "id": "kaW-Qqr5quAg",
        "outputId": "23d91404-c002-470a-d915-dc72fc2598d2"
      },
      "execution_count": 16,
      "outputs": [
        {
          "output_type": "stream",
          "name": "stdout",
          "text": [
            "\n",
            "sambamba 0.8.2\n",
            " by Artem Tarasov and Pjotr Prins (C) 2012-2021\n",
            "    LDC 1.27.1 / DMD v2.097.2 / LLVM11.0.0 / bootstrap LDC - the LLVM D compiler (1.27.1)\n",
            "\n",
            "\n",
            "real\t0m3.492s\n",
            "user\t0m6.423s\n",
            "sys\t0m0.244s\n"
          ]
        }
      ]
    },
    {
      "cell_type": "code",
      "source": [
        "!time Genrich -t peaks.sorted.bam -o peaks.narrowPeak -f peaks.log -v"
      ],
      "metadata": {
        "colab": {
          "base_uri": "https://localhost:8080/"
        },
        "id": "3FZ8TgLHrRoO",
        "outputId": "4183d92c-6c46-4238-e1ad-fa0854f64ff3"
      },
      "execution_count": 17,
      "outputs": [
        {
          "output_type": "stream",
          "name": "stdout",
          "text": [
            "Processing experimental file #0: peaks.sorted.bam\n",
            "  BAM records analyzed:      500166\n",
            "    Unmapped:                 25581\n",
            "    Supp./dups/lowQual:         166\n",
            "    Paired alignments:       447022\n",
            "    Unpaired alignments:      27397\n",
            "  Fragments analyzed:        223511\n",
            "    Full fragments:          223511\n",
            "      (avg. length: 174.4bp)\n",
            "- control file #0 not provided -\n",
            "  Background pileup value: 0.012576\n",
            "Peak-calling parameters:\n",
            "  Genome length: 3099750718bp\n",
            "  Significance threshold: -log(p) > 2.000\n",
            "  Min. AUC: 200.000\n",
            "  Max. gap between sites: 100bp\n",
            "Peaks identified: 150592 (32552110bp)\n",
            "\n",
            "real\t0m22.507s\n",
            "user\t0m16.206s\n",
            "sys\t0m6.115s\n"
          ]
        }
      ]
    },
    {
      "cell_type": "code",
      "source": [
        "!cat peaks.narrowPeak | bedtools sort | bedtools merge > atac_all_peaks.bed"
      ],
      "metadata": {
        "id": "4iulM0sgr0oe"
      },
      "execution_count": 18,
      "outputs": []
    },
    {
      "cell_type": "code",
      "source": [
        "!gunzip Homo_sapiens.GRCh38.dna.primary_assembly.fa \\\n",
        "&& fold -w 80 Homo_sapiens.GRCh38.dna.primary_assembly.fa > genome.fa"
      ],
      "metadata": {
        "id": "jnjLGAKcKNnh"
      },
      "execution_count": 19,
      "outputs": []
    },
    {
      "cell_type": "code",
      "source": [
        "!bedtools getfasta -fi genome.fa -bed atac_all_peaks.bed -fo atac_all_peaks.fa"
      ],
      "metadata": {
        "colab": {
          "base_uri": "https://localhost:8080/"
        },
        "id": "y4hlBXQJsk9l",
        "outputId": "05cb9b1c-f6b4-4aca-fe12-c52241e9a70b"
      },
      "execution_count": 20,
      "outputs": [
        {
          "output_type": "stream",
          "name": "stdout",
          "text": [
            "index file genome.fa.fai not found, generating...\n"
          ]
        }
      ]
    },
    {
      "cell_type": "code",
      "source": [
        "!ls -lht atac_all_peaks.fa"
      ],
      "metadata": {
        "colab": {
          "base_uri": "https://localhost:8080/"
        },
        "id": "PeJI43EIKU4f",
        "outputId": "7daa4071-3fcf-4594-8d14-feb147078daa"
      },
      "execution_count": 21,
      "outputs": [
        {
          "output_type": "stream",
          "name": "stdout",
          "text": [
            "-rw-r--r-- 1 root root 35M Oct  7 23:49 atac_all_peaks.fa\n"
          ]
        }
      ]
    },
    {
      "cell_type": "code",
      "source": [
        "!time kallisto index \\\n",
        "-i peaks.idx \\\n",
        "atac_all_peaks.fa"
      ],
      "metadata": {
        "colab": {
          "base_uri": "https://localhost:8080/"
        },
        "id": "LpuhgnhgKihR",
        "outputId": "e9010a7f-6615-4478-bf8d-734657e28835"
      },
      "execution_count": 22,
      "outputs": [
        {
          "output_type": "stream",
          "name": "stdout",
          "text": [
            "\n",
            "[build] loading fasta file atac_all_peaks.fa\n",
            "[build] k-mer length: 31\n",
            "[build] warning: clipped off poly-A tail (longer than 10)\n",
            "        from 2 target sequences\n",
            "[build] warning: replaced 559 non-ACGUT characters in the input sequence\n",
            "        with pseudorandom nucleotides\n",
            "[build] counting k-mers ... done.\n",
            "[build] building target de Bruijn graph ...  done \n",
            "[build] creating equivalence classes ...  done\n",
            "[build] target de Bruijn graph has 329802 contigs and contains 26747917 k-mers \n",
            "\n",
            "\n",
            "real\t1m44.778s\n",
            "user\t1m42.205s\n",
            "sys\t0m1.879s\n"
          ]
        }
      ]
    },
    {
      "cell_type": "code",
      "source": [
        "!ls -lht peaks.idx"
      ],
      "metadata": {
        "colab": {
          "base_uri": "https://localhost:8080/"
        },
        "id": "H5wQq4bjbeCb",
        "outputId": "ca02c93c-3ecb-40a1-a71f-ac120c4473d2"
      },
      "execution_count": 23,
      "outputs": [
        {
          "output_type": "stream",
          "name": "stdout",
          "text": [
            "-rw-r--r-- 1 root root 572M Oct  7 23:50 peaks.idx\n"
          ]
        }
      ]
    },
    {
      "cell_type": "code",
      "source": [
        "!cat atac_all_peaks.fa | awk '{if($1~/>/)print substr($1, 2)\"\\t\"substr($1, 2)\"\\t\"substr($1, 2)}' > t2g.txt"
      ],
      "metadata": {
        "id": "UoioH2PWM7kq"
      },
      "execution_count": 24,
      "outputs": []
    },
    {
      "cell_type": "code",
      "source": [
        "!head t2g.txt"
      ],
      "metadata": {
        "colab": {
          "base_uri": "https://localhost:8080/"
        },
        "id": "I3oD2EV3NSDA",
        "outputId": "d72bf837-3edc-4ebb-c394-867c672855c2"
      },
      "execution_count": 25,
      "outputs": [
        {
          "output_type": "stream",
          "name": "stdout",
          "text": [
            "1:10015-10460\t1:10015-10460\t1:10015-10460\n",
            "1:11154-11266\t1:11154-11266\t1:11154-11266\n",
            "1:29210-29373\t1:29210-29373\t1:29210-29373\n",
            "1:29480-29798\t1:29480-29798\t1:29480-29798\n",
            "1:99502-99868\t1:99502-99868\t1:99502-99868\n",
            "1:104185-104255\t1:104185-104255\t1:104185-104255\n",
            "1:143396-143517\t1:143396-143517\t1:143396-143517\n",
            "1:149332-149519\t1:149332-149519\t1:149332-149519\n",
            "1:180546-180929\t1:180546-180929\t1:180546-180929\n",
            "1:181290-181834\t1:181290-181834\t1:181290-181834\n"
          ]
        }
      ]
    },
    {
      "cell_type": "code",
      "source": [
        "!zcat min-R1.fastq.gz | head -2\n",
        "!zcat min-R2.fastq.gz | head -2\n",
        "!zcat min-R3.fastq.gz | head -2"
      ],
      "metadata": {
        "colab": {
          "base_uri": "https://localhost:8080/"
        },
        "id": "2_5AkysmXLbc",
        "outputId": "7f0acc6d-ded5-45db-abb6-dc8a1b939326"
      },
      "execution_count": 26,
      "outputs": [
        {
          "output_type": "stream",
          "name": "stdout",
          "text": [
            "@A00836:480:HJ2W5DSXY:1:1101:30355:1016 1:N:0:CCGAGAAC\n",
            "CNCCGGACCCACTCCCATTACCGTCTGGATCAGCAGCTCCAGGTCGCGGG\n",
            "@A00836:480:HJ2W5DSXY:1:1101:30355:1016 2:N:0:CCGAGAAC\n",
            "CCGTAAACACCAAAGC\n",
            "@A00836:480:HJ2W5DSXY:1:1101:30355:1016 3:N:0:CCGAGAAC\n",
            "CCCTAGTGCTGTCCGTGACTTCTTTGGATCATGTCTGGCCCAAGATGGG\n"
          ]
        }
      ]
    },
    {
      "cell_type": "code",
      "source": [
        "!kb count \\\n",
        "-i peaks.idx \\\n",
        "-g t2g.txt \\\n",
        "-x 10xATAC \\\n",
        "-o out \\\n",
        "-w 737K-cratac-v1.txt \\\n",
        "-t 2 \\\n",
        "--h5ad \\\n",
        "min-R2.fastq.gz min-R1.fastq.gz min-R3.fastq.gz"
      ],
      "metadata": {
        "colab": {
          "base_uri": "https://localhost:8080/"
        },
        "id": "NoIiAlNNNTEj",
        "outputId": "879fdf48-0bf1-44bd-a711-31768343cf1e"
      },
      "execution_count": 27,
      "outputs": [
        {
          "output_type": "stream",
          "name": "stdout",
          "text": [
            "[2022-10-07 23:50:56,040]    INFO [count] Using index peaks.idx to generate BUS file to out from\n",
            "[2022-10-07 23:50:56,040]    INFO [count]         min-R2.fastq.gz\n",
            "[2022-10-07 23:50:56,041]    INFO [count]         min-R1.fastq.gz\n",
            "[2022-10-07 23:50:56,041]    INFO [count]         min-R3.fastq.gz\n",
            "[2022-10-07 23:51:02,971]    INFO [count] Sorting BUS file out/output.bus to out/tmp/output.s.bus\n",
            "[2022-10-07 23:51:08,397]    INFO [count] Inspecting BUS file out/tmp/output.s.bus\n",
            "[2022-10-07 23:51:10,008]    INFO [count] Correcting BUS records in out/tmp/output.s.bus to out/tmp/output.s.c.bus with whitelist 737K-cratac-v1.txt\n",
            "[2022-10-07 23:51:13,032]    INFO [count] Sorting BUS file out/tmp/output.s.c.bus to out/output.unfiltered.bus\n",
            "[2022-10-07 23:51:18,060]    INFO [count] Generating count matrix out/counts_unfiltered/cells_x_genes from BUS file out/output.unfiltered.bus\n",
            "[2022-10-07 23:51:20,075]    INFO [count] Reading matrix out/counts_unfiltered/cells_x_genes.mtx\n",
            "[2022-10-07 23:51:21,075]    INFO [count] Writing matrix to h5ad out/counts_unfiltered/adata.h5ad\n"
          ]
        }
      ]
    },
    {
      "cell_type": "code",
      "source": [
        "# Since we are doing read counting we need to use `--cm`, once this is implemented in kb we can just do it there\n",
        "!bustools count \\\n",
        "-o out/counts_unfiltered/cells_x_genes \\\n",
        "-g t2g.txt \\\n",
        "-e out/matrix.ec \\\n",
        "-t out/transcripts.txt \\\n",
        "--genecounts \\\n",
        "--cm \\\n",
        "out/output.unfiltered.bus"
      ],
      "metadata": {
        "id": "yNJbEjkfYwHs"
      },
      "execution_count": 28,
      "outputs": []
    },
    {
      "cell_type": "code",
      "source": [
        "(time.time()-start_time)/60"
      ],
      "metadata": {
        "id": "zW-KOHwXaHtD",
        "outputId": "1ed6345a-4956-427a-a4e8-cc959b40aaad",
        "colab": {
          "base_uri": "https://localhost:8080/"
        }
      },
      "execution_count": 29,
      "outputs": [
        {
          "output_type": "execute_result",
          "data": {
            "text/plain": [
              "11.038964438438416"
            ]
          },
          "metadata": {},
          "execution_count": 29
        }
      ]
    }
  ]
}